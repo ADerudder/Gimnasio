{
  "nbformat": 4,
  "nbformat_minor": 0,
  "metadata": {
    "colab": {
      "provenance": [],
      "authorship_tag": "ABX9TyPv6lD01sG1EZsI+WMVe6Vl",
      "include_colab_link": true
    },
    "kernelspec": {
      "name": "python3",
      "display_name": "Python 3"
    },
    "language_info": {
      "name": "python"
    }
  },
  "cells": [
    {
      "cell_type": "markdown",
      "metadata": {
        "id": "view-in-github",
        "colab_type": "text"
      },
      "source": [
        "<a href=\"https://colab.research.google.com/github/ADerudder/Gimnasio/blob/main/Banca.ipynb\" target=\"_parent\"><img src=\"https://colab.research.google.com/assets/colab-badge.svg\" alt=\"Open In Colab\"/></a>"
      ]
    },
    {
      "cell_type": "code",
      "source": [
        "from google.colab import drive\n",
        "drive.mount('/content/drive')\n",
        "\n",
        "import pandas as pd\n",
        "import numpy as np\n",
        "import matplotlib.pyplot as plt\n",
        "from matplotlib.ticker import MaxNLocator\n",
        "\n",
        "\n",
        "# Ruta al archivo de Excel en Google Drive\n",
        "file_path = '/content/drive/MyDrive/Banca.xlsx'\n",
        "\n",
        "# Leer el archivo de Excel\n",
        "df = pd.read_excel(file_path)"
      ],
      "metadata": {
        "colab": {
          "base_uri": "https://localhost:8080/"
        },
        "id": "ptyeZmPjPAlP",
        "outputId": "bf2d2c9d-0d05-4969-a9f1-d1f03ff6c1ef"
      },
      "execution_count": null,
      "outputs": [
        {
          "output_type": "stream",
          "name": "stdout",
          "text": [
            "Mounted at /content/drive\n"
          ]
        }
      ]
    },
    {
      "cell_type": "code",
      "source": [
        "df"
      ],
      "metadata": {
        "id": "h9KiELAVPkhC"
      },
      "execution_count": null,
      "outputs": []
    },
    {
      "cell_type": "code",
      "source": [
        "df['Semana'] = df['Semana'].astype(int)\n",
        "\n",
        "x=df['Semana']\n",
        "y=df['Total']\n",
        "\n",
        "plt.scatter(x,y,color=\"red\",marker=\"x\")\n",
        "plt.xlabel('Semana')\n",
        "plt.ylabel('Volumen [Kg]')\n",
        "plt.xticks(np.arange(min(x), max(x) + 1, 1))\n",
        "plt.xlim(0,7)\n",
        "plt.grid(alpha=0.35)\n",
        "plt.show()"
      ],
      "metadata": {
        "colab": {
          "base_uri": "https://localhost:8080/",
          "height": 449
        },
        "id": "EQSdZVHFYq-N",
        "outputId": "b8e26e1f-a357-4dc5-c038-ed9aea868c83"
      },
      "execution_count": null,
      "outputs": [
        {
          "output_type": "display_data",
          "data": {
            "text/plain": [
              "<Figure size 640x480 with 1 Axes>"
            ],
            "image/png": "[encoded data removed]"
          },
          "metadata": {}
        }
      ]
    },
    {
      "cell_type": "code",
      "source": [],
      "metadata": {
        "colab": {
          "base_uri": "https://localhost:8080/"
        },
        "id": "-63A6qq7ZRqS",
        "outputId": "aa7015d8-31f2-4bc5-8bad-e6d60082d868"
      },
      "execution_count": null,
      "outputs": [
        {
          "output_type": "execute_result",
          "data": {
            "text/plain": [
              "0    1\n",
              "Name: Semana, dtype: int64"
            ]
          },
          "metadata": {},
          "execution_count": 55
        }
      ]
    },
    {
      "cell_type": "code",
      "source": [],
      "metadata": {
        "id": "N7TP0vW3Z2cb"
      },
      "execution_count": null,
      "outputs": []
    }
  ]
}